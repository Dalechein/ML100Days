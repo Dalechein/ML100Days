{
 "cells": [
  {
   "cell_type": "markdown",
   "metadata": {},
   "source": [
    "### 作業目的: 使用樹型模型進行文章分類\n",
    "\n",
    "本次作業主利用[Amazon Review data中的All Beauty](https://nijianmo.github.io/amazon/index.html)來進行review評價分類(文章分類)\n",
    "\n",
    "資料中將review分為1,2,3,4,5分，而在這份作業，我們將評論改分為差評價、普通評價、優良評價(1,2-->1差評、3-->2普通評價、4,5-->3優良評價)"
   ]
  },
  {
   "cell_type": "markdown",
   "metadata": {},
   "source": [
    "### 載入套件"
   ]
  },
  {
   "cell_type": "code",
   "execution_count": 1,
   "metadata": {},
   "outputs": [],
   "source": [
    "import json\n",
    "import re\n",
    "import nltk\n",
    "from sklearn.tree import DecisionTreeClassifier\n",
    "from sklearn.ensemble import AdaBoostClassifier, RandomForestClassifier\n",
    "from sklearn.metrics import classification_report, confusion_matrix, accuracy_score\n",
    "from sklearn.model_selection import train_test_split\n",
    "from sklearn.feature_extraction.text import CountVectorizer, TfidfVectorizer, TfidfTransformer"
   ]
  },
  {
   "cell_type": "markdown",
   "metadata": {},
   "source": [
    "### 資料前處理\n",
    "文本資料較為龐大，這裡我們取前10000筆資料來進行作業練習"
   ]
  },
  {
   "cell_type": "code",
   "execution_count": 2,
   "metadata": {},
   "outputs": [],
   "source": [
    "#load json data\n",
    "all_reviews = []\n",
    "with open('All_Beauty.json', 'r') as f:\n",
    "    for line in f.readlines():\n",
    "        all_reviews.append(json.loads(line))        "
   ]
  },
  {
   "cell_type": "code",
   "execution_count": 3,
   "metadata": {},
   "outputs": [
    {
     "data": {
      "text/plain": [
       "{'overall': 1.0,\n",
       " 'verified': True,\n",
       " 'reviewTime': '02 19, 2015',\n",
       " 'reviewerID': 'A1V6B6TNIC10QE',\n",
       " 'asin': '0143026860',\n",
       " 'reviewerName': 'theodore j bigham',\n",
       " 'reviewText': 'great',\n",
       " 'summary': 'One Star',\n",
       " 'unixReviewTime': 1424304000}"
      ]
     },
     "execution_count": 3,
     "metadata": {},
     "output_type": "execute_result"
    }
   ],
   "source": [
    "all_reviews[0]"
   ]
  },
  {
   "cell_type": "code",
   "execution_count": 4,
   "metadata": {},
   "outputs": [
    {
     "data": {
      "text/plain": [
       "1.0"
      ]
     },
     "execution_count": 4,
     "metadata": {},
     "output_type": "execute_result"
    }
   ],
   "source": [
    "all_reviews[0]['overall']"
   ]
  },
  {
   "cell_type": "code",
   "execution_count": 5,
   "metadata": {},
   "outputs": [
    {
     "data": {
      "text/plain": [
       "'great'"
      ]
     },
     "execution_count": 5,
     "metadata": {},
     "output_type": "execute_result"
    }
   ],
   "source": [
    "all_reviews[0]['reviewText']"
   ]
  },
  {
   "cell_type": "code",
   "execution_count": 6,
   "metadata": {},
   "outputs": [
    {
     "data": {
      "text/plain": [
       "{'overall': 5.0,\n",
       " 'verified': True,\n",
       " 'reviewTime': '03 4, 2017',\n",
       " 'reviewerID': 'A3TQJ5AQXW6CZH',\n",
       " 'asin': '1620213982',\n",
       " 'style': {'Size:': ' Color42'},\n",
       " 'reviewerName': 'mona',\n",
       " 'summary': 'Five Stars',\n",
       " 'unixReviewTime': 1488585600}"
      ]
     },
     "execution_count": 6,
     "metadata": {},
     "output_type": "execute_result"
    }
   ],
   "source": [
    "# 沒有'reviewText'\n",
    "all_reviews[547]"
   ]
  },
  {
   "cell_type": "code",
   "execution_count": 7,
   "metadata": {},
   "outputs": [],
   "source": [
    "#parse label(overall) and corpus(reviewText)\n",
    "corpus = []\n",
    "labels = []\n",
    "\n",
    "#transform labels: 1,2 --> 1 and 3 --> 2 and 4,5 --> 3\n",
    "\n",
    "for i in range(len(all_reviews)):\n",
    "    if i==10000:\n",
    "        break\n",
    "    try:\n",
    "        corpus.append(all_reviews[i]['reviewText'])\n",
    "        if all_reviews[i]['overall'] == 1.0 or all_reviews[i]['overall'] == 2.0:\n",
    "            labels.append(1)\n",
    "        if all_reviews[i]['overall'] == 3.0:\n",
    "            labels.append(2)\n",
    "        if all_reviews[i]['overall'] == 4.0 or all_reviews[i]['overall'] == 5.0:\n",
    "            labels.append(3)\n",
    "    except:\n",
    "        #corpus.append('None')\n",
    "        #print(i)\n",
    "        continue\n",
    "\n",
    "#corpus = [all_reviews[i]['reviewText'] for i in range(len(all_reviews))]\n",
    "#labels = [all_reviews[i]['overall'] for i in range(len(all_reviews))]"
   ]
  },
  {
   "cell_type": "code",
   "execution_count": 8,
   "metadata": {},
   "outputs": [
    {
     "data": {
      "text/plain": [
       "['great',\n",
       " \"My  husband wanted to reading about the Negro Baseball and this a great addition to his library\\n Our library doesn't haveinformation so this book is his start. Tthank you\",\n",
       " 'This book was very informative, covering all aspects of game.',\n",
       " 'I am already a baseball fan and knew a bit about the Negro leagues, but I learned a lot more reading this book.',\n",
       " \"This was a good story of the Black leagues. I bought the book to teach in my high school reading class. I found it very informative and exciting. I would recommend to anyone interested in the history of the black leagues. It is well written, unlike a book of facts. The McKissack's continue to write good books for young audiences that can also be enjoyed by adults!\"]"
      ]
     },
     "execution_count": 8,
     "metadata": {},
     "output_type": "execute_result"
    }
   ],
   "source": [
    "corpus[:5]"
   ]
  },
  {
   "cell_type": "code",
   "execution_count": 9,
   "metadata": {},
   "outputs": [
    {
     "name": "stdout",
     "output_type": "stream",
     "text": [
      "['great', 'my  husband wanted to reading about the negro baseball and this a great addition to his library our library doesnt haveinformation so this book is his start tthank you', 'this book was very informative covering all aspects of game', 'i am already a baseball fan and knew a bit about the negro leagues but i learned a lot more reading this book', 'this was a good story of the black leagues i bought the book to teach in my high school reading class i found it very informative and exciting i would recommend to anyone interested in the history of the black leagues it is well written unlike a book of facts the mckissacks continue to write good books for young audiences that can also be enjoyed by adults']\n"
     ]
    }
   ],
   "source": [
    "#preprocessing data\n",
    "#remove email address, punctuations, and change line symbol(\\n)\n",
    "pattern1 = r\"(\\w+@\\w+\\.\\w+)\"\n",
    "pattern2 = r\"([^a-zA-Z0-9\\s])|[\\n]\"\n",
    "\n",
    "corpus2 = []\n",
    "\n",
    "for text in corpus:\n",
    "    match = re.sub(pattern1, '', text)  \n",
    "    match2 = re.sub(pattern2, '', match).lower()\n",
    "\n",
    "    corpus2.append(match2)\n",
    "    \n",
    "print(corpus2[:5])"
   ]
  },
  {
   "cell_type": "code",
   "execution_count": 10,
   "metadata": {},
   "outputs": [
    {
     "data": {
      "text/plain": [
       "(7996, 1999, 7996, 1999)"
      ]
     },
     "execution_count": 10,
     "metadata": {},
     "output_type": "execute_result"
    }
   ],
   "source": [
    "#split corpus and label into train and test\n",
    "x_train, x_test, y_train, y_test = train_test_split(corpus2, labels, test_size = 0.2, random_state = 1)\n",
    "\n",
    "len(x_train), len(x_test), len(y_train), len(y_test)"
   ]
  },
  {
   "cell_type": "code",
   "execution_count": 11,
   "metadata": {},
   "outputs": [],
   "source": [
    "#change corpus into vector\n",
    "#you can use tfidf or BoW here\n",
    "cv = CountVectorizer(max_features = 2000)\n",
    "\n",
    "#transform training and testing corpus into vector form\n",
    "x_train = cv.fit_transform(x_train).toarray()\n",
    "x_test = cv.fit_transform(x_test).toarray()"
   ]
  },
  {
   "cell_type": "markdown",
   "metadata": {},
   "source": [
    "### 訓練與預測"
   ]
  },
  {
   "cell_type": "code",
   "execution_count": 12,
   "metadata": {},
   "outputs": [],
   "source": [
    "#build classification model (decision tree, random forest, or adaboost)\n",
    "decision_tree_cls = DecisionTreeClassifier(criterion='entropy', max_depth=3,\n",
    "                                           min_samples_split=10, min_samples_leaf=5)\n",
    "\n",
    "#start training\n",
    "decision_tree_cls.fit(x_train, y_train)\n",
    "\n",
    "#start inference\n",
    "y_pred = decision_tree_cls.predict(x_test)"
   ]
  },
  {
   "cell_type": "code",
   "execution_count": 13,
   "metadata": {},
   "outputs": [
    {
     "name": "stdout",
     "output_type": "stream",
     "text": [
      "Accuracy: 0.896448224112056\n"
     ]
    }
   ],
   "source": [
    "#calculate accuracy\n",
    "print(f'Accuracy: {accuracy_score(y_test, y_pred)}')"
   ]
  },
  {
   "cell_type": "code",
   "execution_count": 14,
   "metadata": {},
   "outputs": [
    {
     "name": "stdout",
     "output_type": "stream",
     "text": [
      "              precision    recall  f1-score   support\n",
      "\n",
      "           1       0.20      0.02      0.04       135\n",
      "           2       0.00      0.00      0.00        64\n",
      "           3       0.90      0.99      0.95      1800\n",
      "\n",
      "    accuracy                           0.90      1999\n",
      "   macro avg       0.37      0.34      0.33      1999\n",
      "weighted avg       0.83      0.90      0.85      1999\n",
      "\n",
      "[[   3    0  132]\n",
      " [   1    0   63]\n",
      " [  11    0 1789]]\n"
     ]
    },
    {
     "name": "stderr",
     "output_type": "stream",
     "text": [
      "C:\\Users\\User\\anaconda3\\envs\\AI_100\\lib\\site-packages\\sklearn\\metrics\\_classification.py:1221: UndefinedMetricWarning: Precision and F-score are ill-defined and being set to 0.0 in labels with no predicted samples. Use `zero_division` parameter to control this behavior.\n",
      "  _warn_prf(average, modifier, msg_start, len(result))\n"
     ]
    }
   ],
   "source": [
    "#calculate confusion matrix, precision, recall, and f1-score\n",
    "print(classification_report(y_test, y_pred))\n",
    "print(confusion_matrix(y_test, y_pred))"
   ]
  },
  {
   "cell_type": "markdown",
   "metadata": {},
   "source": [
    "由上述資訊可以發現, 模型在好評的準確度高(precision, recall都高), 而在差評的部分表現較不理想, 在普通評價的部分大部分跟差評搞混,\n",
    "同學可以試著學習到的各種方法來提升模型的表現"
   ]
  },
  {
   "cell_type": "code",
   "execution_count": null,
   "metadata": {},
   "outputs": [],
   "source": []
  }
 ],
 "metadata": {
  "kernelspec": {
   "display_name": "Python 3",
   "language": "python",
   "name": "python3"
  },
  "language_info": {
   "codemirror_mode": {
    "name": "ipython",
    "version": 3
   },
   "file_extension": ".py",
   "mimetype": "text/x-python",
   "name": "python",
   "nbconvert_exporter": "python",
   "pygments_lexer": "ipython3",
   "version": "3.7.9"
  }
 },
 "nbformat": 4,
 "nbformat_minor": 2
}
