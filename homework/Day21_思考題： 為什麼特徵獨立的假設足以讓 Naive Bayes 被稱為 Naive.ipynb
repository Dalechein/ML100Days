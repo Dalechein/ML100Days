{
 "cells": [
  {
   "cell_type": "markdown",
   "metadata": {},
   "source": [
    "### 為什麼特徵獨立的假設足以讓 Naive Bayes 被稱為 Naive?\n",
    "1. 特徵之間相互獨立這一假設在實際應用中往往不成立。"
   ]
  },
  {
   "cell_type": "markdown",
   "metadata": {},
   "source": [
    "### Naive Bayes\n",
    "假設特徵之間獨立的情況下，以單純貝式模型為基礎的機率分類器。\n",
    "\n",
    "優點：\n",
    "1. 簡單且訓練和預測的速度非常快（由於每個特徵相互獨立，因此每個條件概率P(feature|label)的分布可以獨立地被一維分布估計出來）。\n",
    "2. 容易解釋。\n",
    "3. 可調參數少。\n",
    "4. 盡管單純貝式對特徵之間相互獨立這一假設在實際應用中往往不成立，但相比Logistic回歸等其他分類方法，單純貝式分類器性能更優，\n",
    "   且只需少量訓練數據。\n",
    "\n",
    "缺點：\n",
    "1. 由於單純貝式分類器對數據分布有嚴格的假設，因此它的預測效果通常比複雜模型差。\n",
    "\n",
    "適用於：\n",
    "1. 各個類別的區分度很高。\n",
    "2. 維度非常高的數據集。\n",
    "3. 為分類問題提供快速粗糙的基本方案。\n",
    "\n",
    "### 單純貝式的4種應用\n",
    "1. 實時預測：毫無疑問，單純貝式很快。\n",
    "2. 多類預測：這個算法以多類別預測功能聞名，因此可以用來預測多類目標變量的概率。\n",
    "3. 文本分類/垃圾郵件過濾/情感分析：相比較其他算法，單純貝式的應用主要集中在文本分類（變量類型多，且更獨立），具有較高的成功率。因此被廣泛應用於垃圾郵件過濾（識別垃圾郵件）和情感分析（在社交媒體平台分辨積極情緒和消極情緒的用戶）。\n",
    "4. 推薦系統：單純貝式分類器和協同過濾結合使用可以過濾出用戶想看到的和不想看到的東西。"
   ]
  },
  {
   "cell_type": "markdown",
   "metadata": {},
   "source": [
    "### 如何建立樸素貝葉斯的基本模型\n",
    "\n",
    "#### scikit learn裡有3種樸素貝葉斯的模型：\n",
    "1. 高斯模型：適用於多個類型變量，假設特徵符合高斯分佈。\n",
    "2. 多項式模型：用於離散計數。如一個句子中某個詞語重複出現，我們視它們每個都是獨立的，所以統計多次，概率指數上出現了次方。\n",
    "3. 伯努利模型：如果特徵向量是二進制（即0和1），那這個模型是非常有用的。不同於多項式，伯努利把出現多次的詞語視為只出現一次，更加簡單方便。"
   ]
  },
  {
   "cell_type": "markdown",
   "metadata": {},
   "source": [
    "參考：\n",
    "https://blog.csdn.net/qq_41534566/article/details/83015082"
   ]
  },
  {
   "cell_type": "code",
   "execution_count": null,
   "metadata": {},
   "outputs": [],
   "source": []
  }
 ],
 "metadata": {
  "kernelspec": {
   "display_name": "Python 3",
   "language": "python",
   "name": "python3"
  },
  "language_info": {
   "codemirror_mode": {
    "name": "ipython",
    "version": 3
   },
   "file_extension": ".py",
   "mimetype": "text/x-python",
   "name": "python",
   "nbconvert_exporter": "python",
   "pygments_lexer": "ipython3",
   "version": "3.7.9"
  }
 },
 "nbformat": 4,
 "nbformat_minor": 4
}
