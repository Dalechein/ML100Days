{
 "cells": [
  {
   "cell_type": "markdown",
   "metadata": {
    "colab_type": "text",
    "id": "tTJolmzeBLGr"
   },
   "source": [
    "# 作業目標: 使用python正規表達式對資料進行清洗處理\n",
    "\n",
    "這份作業我們會使用詐欺郵件的文本資料來作為清洗與處理的操作。\n",
    "[資料集](https://www.kaggle.com/rtatman/fraudulent-email-corpus/data#)"
   ]
  },
  {
   "cell_type": "markdown",
   "metadata": {
    "colab_type": "text",
    "id": "vhv0OElTBLGs"
   },
   "source": [
    "### 讀入資料文本\n",
    "因原始文本較大，先使用部份擷取的**sample_emails.txt**來進行練習"
   ]
  },
  {
   "cell_type": "code",
   "execution_count": 1,
   "metadata": {
    "colab": {},
    "colab_type": "code",
    "id": "a0BdDqt1BLGt"
   },
   "outputs": [],
   "source": [
    "#讀取文本資料\n",
    "fn = \"sample_emails.txt\"\n",
    "\n",
    "with open(fn) as file_obj:\n",
    "    sample_corpus = file_obj.read()"
   ]
  },
  {
   "cell_type": "code",
   "execution_count": 2,
   "metadata": {},
   "outputs": [
    {
     "data": {
      "text/plain": [
       "'From r  Wed Oct 30 21:41:56 2002\\nReturn-Path: <james_ngola2002@maktoob.com>\\nX-Sieve: cmu-sieve 2.0\\nReturn-Path: <james_ngola2002@maktoob.com>\\nMessage-Id: <200210310241.g9V2fNm6028281@cs.CU>\\nFrom: \"MR. JAMES NGOLA.\" <james_ngola2002@maktoob.com>\\nReply-To: james_ngola2002@maktoob.com\\nTo: webmaster@aclweb.org\\nDate: Thu, 31 Oct 2002 02:38:20 +0000\\nSubject: URGENT BUSINESS ASSISTANCE AND PARTNERSHIP\\nX-Mailer: Microsoft Outlook Express 5.00.2919.6900 DM\\nMIME-Version: 1.0\\nContent-Type: text/plain; charset=\"us-ascii\"\\nContent-Transfer-Encoding: 8bit\\nX-MIME-Autoconverted: from quoted-printable to 8bit by sideshowmel.si.UM id g9V2foW24311\\nStatus: O\\n\\nFROM:MR. JAMES NGOLA.\\nCONFIDENTIAL TEL: 233-27-587908.\\nE-MAIL: (james_ngola2002@maktoob.com).\\n\\nURGENT BUSINESS ASSISTANCE AND PARTNERSHIP.\\n\\n\\nDEAR FRIEND,\\n\\nI AM ( DR.) JAMES NGOLA, THE PERSONAL ASSISTANCE TO THE LATE CONGOLESE (PRESIDENT LAURENT KABILA) WHO WAS ASSASSINATED BY HIS BODY GUARD ON 16TH JAN. 2001.\\n\\n\\nTHE INCIDENT OCCURRED IN OUR PRESENCE WHILE WE WERE HOLDING MEETING WITH HIS EXCELLENCY OVER THE FINANCIAL RETURNS FROM THE DIAMOND SALES IN THE AREAS CONTROLLED BY (D.R.C.) DEMOCRATIC REPUBLIC OF CONGO FORCES AND THEIR FOREIGN ALLIES ANGOLA AND ZIMBABWE, HAVING RECEIVED THE PREVIOUS DAY (USD$100M) ONE HUNDRED MILLION UNITED STATES DOLLARS, CASH IN THREE DIPLOMATIC BOXES ROUTED THROUGH ZIMBABWE.\\n\\nMY PURPOSE OF WRITING YOU THIS LETTER IS TO SOLICIT FOR YOUR ASSISTANCE AS TO BE A COVER TO THE FUND AND ALSO COLLABORATION IN MOVING THE SAID FUND INTO YOUR BANK ACCOUNT THE SUM OF (USD$25M) TWENTY FIVE MILLION UNITED STATES DOLLARS ONLY, WHICH I DEPOSITED WITH A SECURITY COMPANY IN GHANA, IN A DIPLOMATIC BOX AS GOLDS WORTH (USD$25M) TWENTY FIVE MILLION UNITED STATES DOLLARS ONLY FOR SAFE KEEPING IN A SECURITY VAULT FOR ANY FURTHER INVESTMENT PERHAPS IN YOUR COUNTRY. \\n\\nYOU WERE INTRODUCED TO ME BY A RELIABLE FRIEND OF MINE WHO IS A TRAVELLER,AND ALSO A MEMBER OF CHAMBER OF COMMERCE AS A RELIABLE AND TRUSTWORTHY PERSON WHOM I CAN RELY ON AS FOREIGN PARTNER, EVEN THOUGH THE NATURE OF THE TRANSACTION WAS NOT REVEALED TO HIM FOR SECURITY REASONS.\\n\\n\\nTHE (USD$25M) WAS PART OF A PROCEEDS FROM DIAMOND TRADE MEANT FOR THE LATE PRESIDENT LAURENT KABILA WHICH WAS DELIVERED THROUGH ZIMBABWE IN DIPLOMATIC BOXES. THE BOXES WERE KEPT UNDER MY CUSTODY BEFORE THE SAD EVENT THAT TOOK THE LIFE OF (MR. PRESIDENT).THE CONFUSION THAT ENSUED AFTER THE ASSASSINATION AND THE SPORADIC SHOOTING AMONG THE FACTIONS, I HAVE TO RUN AWAY FROM THE COUNTRY FOR MY DEAR LIFE AS I AM NOT A SOLDIER BUT A CIVIL SERVANT I CROSSED RIVER CONGO TO OTHER SIDE OF CONGO LIBREVILLE FROM THERE I MOVED TO THE THIRD COUNTRY GHANA WHERE I AM PRESENTLY TAKING REFUGE. \\n\\nAS A MATTER OF FACT, WHAT I URGENTLY NEEDED FROM YOU IS YOUR ASSISTANCE IN MOVING THIS MONEY INTO YOUR ACCOUNT IN YOUR COUNTRY FOR INVESTMENT WITHOUT RAISING EYEBROW. FOR YOUR ASSISTANCE I WILL GIVE YOU 20% OF THE TOTAL SUM AS YOUR OWN SHARE WHEN THE MONEY GETS TO YOUR ACCOUNT, WHILE 75% WILL BE FOR ME, OF WHICH WITH YOUR KIND ADVICE I HOPE TO INVEST IN PROFITABLE VENTURE IN YOUR COUNTRY IN OTHER TO SETTLE DOWN FOR MEANINGFUL LIFE, AS I AM TIRED OF LIVING IN A WAR ENVIRONMENT. \\n\\nTHE REMAINING 5% WILL BE USED TO OFFSET ANY COST INCURRED IN THE CAUSE OF MOVING THE MONEY TO YOUR ACCOUNT. IF THE PROPOSAL IS ACCEPTABLE TO YOU PLEASE CONTACT ME IMMEDIATELY THROUGH THE ABOVE TELEPHONE AND E-MAIL, TO ENABLE ME ARRANGE FACE TO FACE MEETING WITH YOU IN GHANA FOR THE CLEARANCE OF THE FUNDS BEFORE TRANSFRING IT TO YOUR BANK ACCOUNT AS SEEING IS BELIEVING. \\n\\nFINALLY, IT IS IMPORTANT ALSO THAT I LET YOU UNDERSTAND THAT THERE IS NO RISK INVOLVED WHATSOEVER AS THE MONEY HAD NO RECORD IN KINSHASA FOR IT WAS MEANT FOR THE PERSONAL USE OF (MR. PRESIDEND ) BEFORE THE NEFARIOUS INCIDENT OCCURRED, AND ALSO I HAVE ALL THE NECESSARY DOCUMENTS AS REGARDS TO THE FUNDS INCLUDING THE (CERTIFICATE OF DEPOSIT), AS I AM THE DEPOSITOR OF THE CONSIGNMENT.\\n\\n\\nLOOKING FORWARD TO YOUR URGENT RESPONSE.\\n\\nYOUR SINCERELY,\\n\\nMR. JAMES NGOLA. \\n\\n\\n\\n\\n\\n\\n\\n\\n\\n\\nFrom r  Thu Oct 31 08:11:39 2002\\nReturn-Path: <bensul2004nng@spinfinder.com>\\nX-Sieve: cmu-sieve 2.0\\nReturn-Path: <bensul2004nng@spinfinder.com>\\nMessage-Id: <200210311310.g9VDANt24674@bloodwork.mr.itd.UM>\\nFrom: \"Mr. Ben Suleman\" <bensul2004nng@spinfinder.com>\\nDate: Thu, 31 Oct 2002 05:10:00\\nTo: R@M\\nSubject: URGENT ASSISTANCE /RELATIONSHIP (P)\\nMIME-Version: 1.0\\nContent-Type: text/plain;charset=\"iso-8859-1\"\\nContent-Transfer-Encoding: 7bit\\nStatus: O\\n\\nDear Friend,\\n\\nI am Mr. Ben Suleman a custom officer and work as Assistant controller of the Customs and Excise department Of the Federal Ministry of Internal Affairs stationed at the Murtala Mohammed International Airport, Ikeja, Lagos-Nigeria.\\n\\nAfter the sudden death of the former Head of state of Nigeria General Sanni Abacha on June 8th 1998 his aides and immediate members of his family were arrested while trying to escape from Nigeria in a Chartered jet to Saudi Arabia with 6 trunk boxes Marked \"Diplomatic Baggage\". Acting on a tip-off as they attempted to board the Air Craft,my officials carried out a thorough search on the air craft and discovered that the 6 trunk boxes contained foreign currencies amounting to US$197,570,000.00(One Hundred and  Ninety-Seven Million Five Hundred Seventy Thousand United States Dollars).\\n\\nI declared only (5) five boxes to the government and withheld one (1) in my custody containing the sum of (US$30,000,000.00) Thirty Million United States Dollars Only, which has been disguised to prevent their being discovered during transportation process.Due to several media reports on the late head of state about all the money him and his co-government officials stole from our government treasury amounting\\nto US$55 Billion Dollars (ref:ngrguardiannews.com) of July 2nd 1999. Even the London times of July 1998 reported that General Abacha has over US$3.Billion dollars in one account overseas. We decided to conceal this one (1)box till the situation is calm and quite on the issue. The box was thus deposited with a security company here in Nigeria and tagged as \"Precious Stones and Jewellry\" in other that its\\ncontent will not be discovered. Now that all is calm, we (myself and two of my colleagues in the operations team) are now ready to move this box out of the country through a diplomatic arrangement which is the safest means. \\n\\nHowever as government officials the Civil Service Code of Conduct does not allow us by law to operate any foreign account or own foreign investment and the amount of money that can be found in our account\\ncannot be more than our salary on the average, thus our handicapp and our need for your assistance to help collect and keep safely in your account this money.\\n\\nTherefore we want you to assist us in moving this money out of Nigeria. We shall definitely compensate you handsomely for the assistance. We can do this by instructing the Security Company here in Nigeria to\\nmove the consignment to their affiliate branch office outside Nigeria through diplomatic means and the consignment will be termed as Precious Stones and Jewelleries\" which you bought during your visit to Nigeria and is being transfered to your country from here for safe keeping. Then we can arrange to meet at the destination country to take the delivery of the consignment. You will thereafter open an account there and lodge the Money there and gradually instruct remittance to your Country. \\n\\nThis business is 100% risk free for you so please treat this matter with utmost confidentiality .If you indicate your interest to assist us please just e-mail me for more Explanation on how we plan to execute the transaction.\\n\\nExpecting your response urgently.\\n\\nBest regards,\\n\\nMr. Ben Suleman\\n\\nFrom r  Thu Oct 31 17:27:16 2002\\nReturn-Path: <obong_715@epatra.com>\\nX-Sieve: cmu-sieve 2.0\\nReturn-Path: <obong_715@epatra.com>\\nMessage-Id: <200210312227.g9VMQvDj017948@bluewhale.cs.CU>\\nFrom: \"PRINCE OBONG ELEME\" <obong_715@epatra.com>\\nReply-To: obong_715@epatra.com\\nTo: webmaster@aclweb.org\\nDate: Thu, 31 Oct 2002 22:17:55 +0100\\nSubject: GOOD DAY TO YOU\\nX-Mailer: Microsoft Outlook Express 5.00.2919.6900DM\\nMIME-Version: 1.0\\nContent-Type: text/plain; charset=\"us-ascii\"\\nContent-Transfer-Encoding: 8bit\\nX-MIME-Autoconverted: from quoted-printable to 8bit by sideshowmel.si.UM id g9VMRBW20642\\nStatus: RO\\n\\nFROM HIS ROYAL MAJESTY (HRM) CROWN RULER OF ELEME KINGDOM \\nCHIEF DANIEL ELEME, PHD, EZE 1 OF ELEME.E-MAIL \\nADDRESS:obong_715@epatra.com  \\n\\nATTENTION:PRESIDENT,CEO Sir/ Madam. \\n\\nThis letter might surprise you because we have met\\nneither in person nor by correspondence. But I believe\\nit is one day that you got to know somebody either in\\nphysical or through correspondence. \\n\\nI got your contact through discreet inquiry from the\\nchambers of commerce and industry of your country on\\nthe net, you and your organization were revealed as\\nbeing quite astute in private entrepreneurship, one\\nhas no doubt in your ability to handle a financialbusiness transaction. \\n\\nHowever, I am the first son of His Royal\\nmajesty,Obong.D. Eleme , and the traditional Ruler of\\nEleme Province in the oil producing area of River\\nState of Nigeria. I am making this contact to you in\\nrespect of US$60,000,000.00 (Sixty Million United\\nState Dollars), which I inherited, from my latefather. \\n\\nThis money was accumulated from royalties paid to my\\nfather as compensation by the oil firms located in our\\narea as a result of oil presence on our land, which\\nhamper agriculture, which is our major source oflivelihood. \\n\\nUnfortunately my father died from protracted\\ndiabetes.But before his death he called my attention\\nand informed me that he lodged some funds on a two\\nboxes with a security firm with an open beneficiary\\nstatus. The lodgment security code number was also\\nrevealed to me, he then advised me to look for a\\nreliable business partner abroad, that will assist me\\nin investing the money in a lucrative business as a\\nresult of economic instability in Nigeria. So this is\\nthe main reason why I am contacting you for us to move\\nthis money from the security firm to any Country of\\nyour choice for investment purpose. \\n\\nSo I will like you to be the ultimate beneficiary, so\\nthat the funds can be moved in your name and\\nparticulars to any Country of your choice where it\\nwill be claimed and invested. Hence my father have had\\nintimated the security firm personnel that the\\nbeneficiary of the box is his foreign partner whose\\nparticulars will be forwarded to the firm when due. \\n\\nBut I will guide you Accordingly. As soon as the funds\\nreach, I will then come over to meet you in person, so\\nthat we can discuss physically on investment\\npotentials. Based on this assistance my Family and I\\nhave unanimously decided to give you 30% of the total\\nmoney, 5% for Charity home, 10% for expenses, which\\nmay arise during this transaction, Fax and phone bills\\ninclusive. The balance of 55% you will invest andmanaged for my Family. \\n\\nI hereby guarantee you that this is not government\\nmoney, it is not drug money and it is not money from\\narms deal. Though you have to maintain high degree of\\nconfidentiality on this matter. I will give more\\ndetails about the proceedings of this transaction as\\nsoon as I receive your favorable reply. \\n\\nPlease reply to my Email Address:obong_715@epatra.com\\nI hope this will be the beginning of a prosperous\\nrelationship between my family and your family. \\n\\nNevertheless if you are for any reason not interested,\\nkindly inform me immediately so that I will look foranother contact. \\n\\nI am waiting for your quick response. \\n\\nYours faithfully, \\n\\nPrince Obong Abbot \\n'"
      ]
     },
     "execution_count": 2,
     "metadata": {},
     "output_type": "execute_result"
    }
   ],
   "source": [
    "sample_corpus"
   ]
  },
  {
   "cell_type": "markdown",
   "metadata": {
    "colab_type": "text",
    "id": "aUg8HenSBLG2"
   },
   "source": [
    "### 讀取寄件者資訊\n",
    "觀察文本資料可以發現, 寄件者資訊都符合以下格式\n",
    "\n",
    "`From: <收件者姓名> <收件者電子郵件>`"
   ]
  },
  {
   "cell_type": "code",
   "execution_count": 3,
   "metadata": {
    "colab": {},
    "colab_type": "code",
    "id": "YgsUuHsfBLG2"
   },
   "outputs": [],
   "source": [
    "import re\n",
    "pattern = r\"^From:.*\"\n",
    "\n",
    "match = re.findall(pattern, sample_corpus, re.M)"
   ]
  },
  {
   "cell_type": "code",
   "execution_count": 4,
   "metadata": {},
   "outputs": [
    {
     "data": {
      "text/plain": [
       "['From: \"MR. JAMES NGOLA.\" <james_ngola2002@maktoob.com>',\n",
       " 'From: \"Mr. Ben Suleman\" <bensul2004nng@spinfinder.com>',\n",
       " 'From: \"PRINCE OBONG ELEME\" <obong_715@epatra.com>']"
      ]
     },
     "execution_count": 4,
     "metadata": {},
     "output_type": "execute_result"
    }
   ],
   "source": [
    "match"
   ]
  },
  {
   "cell_type": "markdown",
   "metadata": {
    "colab_type": "text",
    "id": "Ac8KHAqTBLG7"
   },
   "source": [
    "### 只讀取寄件者姓名"
   ]
  },
  {
   "cell_type": "code",
   "execution_count": 5,
   "metadata": {},
   "outputs": [],
   "source": [
    "pattern = r\"(?<=From:)[a-zA-Z.\\s\\\"]+\"\n",
    "\n",
    "match = re.findall(pattern, sample_corpus, re.M)"
   ]
  },
  {
   "cell_type": "code",
   "execution_count": 6,
   "metadata": {},
   "outputs": [
    {
     "name": "stdout",
     "output_type": "stream",
     "text": [
      " \"MR. JAMES NGOLA.\" \n",
      " \"Mr. Ben Suleman\" \n",
      " \"PRINCE OBONG ELEME\" \n"
     ]
    }
   ],
   "source": [
    "for name in match:\n",
    "    print(name)"
   ]
  },
  {
   "cell_type": "markdown",
   "metadata": {
    "colab_type": "text",
    "id": "gaJefecaBLG-"
   },
   "source": [
    "### 只讀取寄件者電子信箱"
   ]
  },
  {
   "cell_type": "code",
   "execution_count": 7,
   "metadata": {},
   "outputs": [],
   "source": [
    "pattern = r\"^From:.*(?<=\\<)(.*@\\w+\\.com)\"\n",
    "\n",
    "match = re.findall(pattern, sample_corpus, re.M)"
   ]
  },
  {
   "cell_type": "code",
   "execution_count": 8,
   "metadata": {},
   "outputs": [
    {
     "data": {
      "text/plain": [
       "['james_ngola2002@maktoob.com',\n",
       " 'bensul2004nng@spinfinder.com',\n",
       " 'obong_715@epatra.com']"
      ]
     },
     "execution_count": 8,
     "metadata": {},
     "output_type": "execute_result"
    }
   ],
   "source": [
    "match"
   ]
  },
  {
   "cell_type": "markdown",
   "metadata": {
    "colab_type": "text",
    "id": "t-RXjNLiBLHC"
   },
   "source": [
    "### 只讀取電子信箱中的寄件機構資訊\n",
    "ex: james_ngola2002@maktoob.com --> 取maktoob"
   ]
  },
  {
   "cell_type": "code",
   "execution_count": 9,
   "metadata": {},
   "outputs": [],
   "source": [
    "pattern = r\"^From:.*(?<=\\<).*@(\\w+)\\.com\"\n",
    "\n",
    "match = re.findall(pattern, sample_corpus, re.M)"
   ]
  },
  {
   "cell_type": "code",
   "execution_count": 10,
   "metadata": {},
   "outputs": [
    {
     "name": "stdout",
     "output_type": "stream",
     "text": [
      "maktoob\n",
      "spinfinder\n",
      "epatra\n"
     ]
    }
   ],
   "source": [
    "for info in match:\n",
    "    print(info)"
   ]
  },
  {
   "cell_type": "markdown",
   "metadata": {
    "colab_type": "text",
    "id": "vfzkuLCWBLHG"
   },
   "source": [
    "### 結合上面的配對方式, 將寄件者的帳號與機構訊返回\n",
    "ex: james_ngola2002@maktoob.com --> [james_ngola2002, maktoob]"
   ]
  },
  {
   "cell_type": "code",
   "execution_count": 11,
   "metadata": {},
   "outputs": [],
   "source": [
    "pattern = r\"^From:.*(?<=\\<)(.*)@(\\w+)\\.com\"\n",
    "\n",
    "match = re.findall(pattern, sample_corpus, re.M)"
   ]
  },
  {
   "cell_type": "code",
   "execution_count": 12,
   "metadata": {},
   "outputs": [
    {
     "data": {
      "text/plain": [
       "[('james_ngola2002', 'maktoob'),\n",
       " ('bensul2004nng', 'spinfinder'),\n",
       " ('obong_715', 'epatra')]"
      ]
     },
     "execution_count": 12,
     "metadata": {},
     "output_type": "execute_result"
    }
   ],
   "source": [
    "match"
   ]
  },
  {
   "cell_type": "markdown",
   "metadata": {
    "colab_type": "text",
    "id": "Yl-BMduNBLHJ"
   },
   "source": [
    "### 使用正規表達式對email資料進行處理\n",
    "這裡我們會使用到python其他的套件協助處理(ex: pandas, email, etc)，這裡我們只需要專注在正規表達式上即可，其他的套件是方便我們整理與處理資料。"
   ]
  },
  {
   "cell_type": "markdown",
   "metadata": {
    "colab_type": "text",
    "id": "kqCacQ9tBLHJ"
   },
   "source": [
    "### 讀取與切分Email\n",
    "讀入的email為一個長字串，利用正規表達式切割讀入的資料成一封一封的email，並將結果以list表示。\n",
    "\n",
    "輸出: [email_1, email_2, email_3, ....]"
   ]
  },
  {
   "cell_type": "code",
   "execution_count": 13,
   "metadata": {},
   "outputs": [
    {
     "data": {
      "text/plain": [
       "3977"
      ]
     },
     "execution_count": 13,
     "metadata": {},
     "output_type": "execute_result"
    }
   ],
   "source": [
    "import re\n",
    "import pandas as pd\n",
    "import email\n",
    "from email.parser import Parser\n",
    "from email.header import decode_header\n",
    "from email.utils import parseaddr\n",
    "\n",
    "###讀取文本資料###\n",
    "with open('all_emails.txt', 'r', encoding=\"utf8\", errors='ignore') as f:\n",
    "    corpus = f.read()\n",
    "    \n",
    "###切割讀入的資料成一封一封的email###\n",
    "###我們可以使用list來儲存每一封email###\n",
    "###注意！這裡請仔細觀察sample資料，看資料是如何切分不同email###\n",
    "emails = re.split(r\"From r\", corpus, flags=re.M)\n",
    "emails = emails[1:] #移除第一項的空元素\n",
    "len(emails) #查看有多少封email"
   ]
  },
  {
   "cell_type": "markdown",
   "metadata": {
    "colab_type": "text",
    "id": "e9IN-2o0BLHM"
   },
   "source": [
    "### 從文本中擷取所有寄件者與收件者的姓名和地址"
   ]
  },
  {
   "cell_type": "code",
   "execution_count": 14,
   "metadata": {},
   "outputs": [],
   "source": [
    "emails_list = [] #創建空list來儲存所有email資訊\n",
    "\n",
    "for mail in emails[:20]: #只取前20筆資料 (處理速度比較快)\n",
    "    emails_dict = dict() #創建空字典儲存資訊\n",
    "    \n",
    "    ###取的寄件者姓名與地址###\n",
    "    #Step1: 取的寄件者資訊 (hint: From:)\n",
    "    pattern = r\"^From:.*\"\n",
    "    From = re.findall(pattern, mail, re.M)\n",
    "    emails_dict['from_info'] = From\n",
    "    \n",
    "    #Step2: 取的姓名與地址 (hint: 要注意有時會有沒取到配對的情況)\n",
    "    pattern = r\"(?<=From:)[a-zA-Z.\\s\\\"]+\"\n",
    "    name = re.findall(pattern, mail, re.M)\n",
    "    emails_dict['from_name'] = name\n",
    "\n",
    "    pattern = r\"^From:.*(?<=\\<)(.*@\\w+\\.com)\"\n",
    "    email = re.findall(pattern, mail, re.M)\n",
    "    emails_dict['from_email'] = email\n",
    "    \n",
    "\n",
    "    ###取的收件者姓名與地址### \n",
    "    #Step1: 取的收件者資訊 (hint: to:)\n",
    "    pattern = r\"^To:.*\"\n",
    "    to = re.findall(pattern, mail, re.M)\n",
    "    emails_dict['to_info'] = to\n",
    "    \n",
    "\n",
    "    pattern = r\"^To:.*(?<=\\<)(.*@\\w+\\.com)\"\n",
    "    email = re.findall(pattern, mail, re.M)\n",
    "    emails_dict['to_email'] = email\n",
    "\n",
    "    ###取得信件主旨###\n",
    "    #Step1: 取得主旨資訊 (hint: Subject:)\n",
    "    pattern = r\"^Subject:.*\"\n",
    "    subject = re.findall(pattern, mail, re.M)\n",
    "    emails_dict['subject'] = subject\n",
    "    \n",
    "    \n",
    "    ###取得信件內文###\n",
    "    #這裡我們使用email package來取出email內文 (可以不需深究，本章節重點在正規表達式)\n",
    "    try:\n",
    "        full_email = email.message_from_string(mail)\n",
    "        body = full_email.get_payload()\n",
    "        emails_dict[\"email_body\"] = body\n",
    "    except:\n",
    "        emails_dict[\"email_body\"] = None\n",
    "    emails_list.append(emails_dict)"
   ]
  },
  {
   "cell_type": "code",
   "execution_count": 15,
   "metadata": {},
   "outputs": [
    {
     "data": {
      "text/plain": [
       "[{'from_info': ['From: \"MR. JAMES NGOLA.\" <james_ngola2002@maktoob.com>'],\n",
       "  'from_name': [' \"MR. JAMES NGOLA.\" '],\n",
       "  'from_email': ['james_ngola2002@maktoob.com'],\n",
       "  'to_info': ['To: webmaster@aclweb.org'],\n",
       "  'to_email': [],\n",
       "  'subject': ['Subject: URGENT BUSINESS ASSISTANCE AND PARTNERSHIP'],\n",
       "  'email_body': None},\n",
       " {'from_info': ['From: \"Mr. Ben Suleman\" <bensul2004nng@spinfinder.com>'],\n",
       "  'from_name': [' \"Mr. Ben Suleman\" '],\n",
       "  'from_email': ['bensul2004nng@spinfinder.com'],\n",
       "  'to_info': ['To: R@M'],\n",
       "  'to_email': [],\n",
       "  'subject': ['Subject: URGENT ASSISTANCE /RELATIONSHIP (P)'],\n",
       "  'email_body': None},\n",
       " {'from_info': ['From: \"PRINCE OBONG ELEME\" <obong_715@epatra.com>'],\n",
       "  'from_name': [' \"PRINCE OBONG ELEME\" '],\n",
       "  'from_email': ['obong_715@epatra.com'],\n",
       "  'to_info': ['To: webmaster@aclweb.org'],\n",
       "  'to_email': [],\n",
       "  'subject': ['Subject: GOOD DAY TO YOU'],\n",
       "  'email_body': None},\n",
       " {'from_info': ['From: \"PRINCE OBONG ELEME\" <obong_715@epatra.com>'],\n",
       "  'from_name': [' \"PRINCE OBONG ELEME\" '],\n",
       "  'from_email': ['obong_715@epatra.com'],\n",
       "  'to_info': ['To: webmaster@aclweb.org'],\n",
       "  'to_email': [],\n",
       "  'subject': ['Subject: GOOD DAY TO YOU'],\n",
       "  'email_body': None},\n",
       " {'from_info': ['From: \"Maryam Abacha\" <m_abacha03@www.com>'],\n",
       "  'from_name': [' \"Maryam Abacha\" '],\n",
       "  'from_email': ['m_abacha03@www.com'],\n",
       "  'to_info': ['To: R@M'],\n",
       "  'to_email': [],\n",
       "  'subject': ['Subject: I Need Your Assistance.'],\n",
       "  'email_body': None},\n",
       " {'from_info': ['From: Kuta David <davidkuta@postmark.net>'],\n",
       "  'from_name': [' Kuta David '],\n",
       "  'from_email': [],\n",
       "  'to_info': ['To: davidkuta@yahoo.com'],\n",
       "  'to_email': [],\n",
       "  'subject': ['Subject: Partnership'],\n",
       "  'email_body': None},\n",
       " {'from_info': ['From: \"Barrister tunde dosumu\" <tunde_dosumu@lycos.com>'],\n",
       "  'from_name': [' \"Barrister tunde dosumu\" '],\n",
       "  'from_email': ['tunde_dosumu@lycos.com'],\n",
       "  'to_info': [],\n",
       "  'to_email': [],\n",
       "  'subject': ['Subject: Urgent Attention'],\n",
       "  'email_body': None},\n",
       " {'from_info': ['From: \"William Drallo\" <william2244drallo@maktoob.com>'],\n",
       "  'from_name': [' \"William Drallo\" '],\n",
       "  'from_email': ['william2244drallo@maktoob.com'],\n",
       "  'to_info': ['To: webmaster@aclweb.org'],\n",
       "  'to_email': [],\n",
       "  'subject': ['Subject: URGENT BUSINESS PRPOSAL'],\n",
       "  'email_body': None},\n",
       " {'from_info': ['From: \"MR USMAN ABDUL\" <abdul_817@rediffmail.com>'],\n",
       "  'from_name': [' \"MR USMAN ABDUL\" '],\n",
       "  'from_email': ['abdul_817@rediffmail.com'],\n",
       "  'to_info': ['To: R@M'],\n",
       "  'to_email': [],\n",
       "  'subject': ['Subject: THANK YOU'],\n",
       "  'email_body': None},\n",
       " {'from_info': ['From: \"Tunde  Dosumu\" <barrister_td@lycos.com>'],\n",
       "  'from_name': [' \"Tunde  Dosumu\" '],\n",
       "  'from_email': ['barrister_td@lycos.com'],\n",
       "  'to_info': [],\n",
       "  'to_email': [],\n",
       "  'subject': ['Subject: Urgent Assistance'],\n",
       "  'email_body': None},\n",
       " {'from_info': ['From: MR TEMI JOHNSON <temijohnson2@rediffmail.com>'],\n",
       "  'from_name': [' MR TEMI JOHNSON '],\n",
       "  'from_email': ['temijohnson2@rediffmail.com'],\n",
       "  'to_info': ['To: R@E'],\n",
       "  'to_email': [],\n",
       "  'subject': ['Subject: IMPORTANT'],\n",
       "  'email_body': None},\n",
       " {'from_info': ['From: \"Dr.Sam jordan\" <sjordan@diplomats.com>'],\n",
       "  'from_name': [' \"Dr.Sam jordan\" '],\n",
       "  'from_email': ['sjordan@diplomats.com'],\n",
       "  'to_info': ['To: R@M'],\n",
       "  'to_email': [],\n",
       "  'subject': ['Subject: URGENT ASSISTANCE.'],\n",
       "  'email_body': None},\n",
       " {'from_info': ['From: p_brown2@lawyer.com'],\n",
       "  'from_name': [' p', ' Barrister Peter Brown\\nX'],\n",
       "  'from_email': [],\n",
       "  'to_info': ['To: webmaster@aclweb.org'],\n",
       "  'to_email': [],\n",
       "  'subject': ['Subject: From: Barrister Peter Brown'],\n",
       "  'email_body': None},\n",
       " {'from_info': ['From: mic_k1@post.com'],\n",
       "  'from_name': [' mic'],\n",
       "  'from_email': [],\n",
       "  'to_info': ['To: R@M'],\n",
       "  'to_email': [],\n",
       "  'subject': ['Subject: MICHAEL'],\n",
       "  'email_body': None},\n",
       " {'from_info': ['From: \"COL. MICHAEL BUNDU\" <mikebunduu1@rediffmail.com>'],\n",
       "  'from_name': [' \"COL. MICHAEL BUNDU\" '],\n",
       "  'from_email': ['mikebunduu1@rediffmail.com'],\n",
       "  'to_info': ['To: R@E'],\n",
       "  'to_email': [],\n",
       "  'subject': ['Subject: *****SPAM***** IMPORTANT'],\n",
       "  'email_body': None},\n",
       " {'from_info': ['From: \"MRS MARIAM ABACHA\" <elixwilliam@usa.com>'],\n",
       "  'from_name': [' \"MRS MARIAM ABACHA\" '],\n",
       "  'from_email': ['elixwilliam@usa.com'],\n",
       "  'to_info': ['To: webmaster@aclweb.org'],\n",
       "  'to_email': [],\n",
       "  'subject': ['Subject: TRUST TRANSACTION'],\n",
       "  'email_body': None},\n",
       " {'from_info': ['From: \" DR. ANAYO AWKA \" <anayoawka@hotmail.com>'],\n",
       "  'from_name': [' \" DR. ANAYO AWKA \" '],\n",
       "  'from_email': ['anayoawka@hotmail.com'],\n",
       "  'to_info': ['To: webmaster@aclweb.org'],\n",
       "  'to_email': [],\n",
       "  'subject': ['Subject: REQUEST FOR YOUR UNRESERVED ASSISTANCE'],\n",
       "  'email_body': None},\n",
       " {'from_info': ['From: \" DR. ANAYO AWKA \" <anayoawka@hotmail.com>'],\n",
       "  'from_name': [' \" DR. ANAYO AWKA \" '],\n",
       "  'from_email': ['anayoawka@hotmail.com'],\n",
       "  'to_info': ['To: webmaster@aclweb.org'],\n",
       "  'to_email': [],\n",
       "  'subject': ['Subject: REQUEST FOR YOUR UNRESERVED ASSISTANCE'],\n",
       "  'email_body': None},\n",
       " {'from_info': ['From: \"Victor Aloma\" <victorloma@netscape.net>'],\n",
       "  'from_name': [' \"Victor Aloma\" '],\n",
       "  'from_email': [],\n",
       "  'to_info': ['To: ntcir-listmem@newns.op.nii.ac.jp'],\n",
       "  'to_email': [],\n",
       "  'subject': ['Subject: Urgent Assistance'],\n",
       "  'email_body': None},\n",
       " {'from_info': ['From: \"Victor Aloma\" <victorloma@netscape.net>'],\n",
       "  'from_name': [' \"Victor Aloma\" '],\n",
       "  'from_email': [],\n",
       "  'to_info': ['To: ntcir-outgoing@nii.ac.jp'],\n",
       "  'to_email': [],\n",
       "  'subject': ['Subject: Urgent Assistance'],\n",
       "  'email_body': None}]"
      ]
     },
     "execution_count": 15,
     "metadata": {},
     "output_type": "execute_result"
    }
   ],
   "source": [
    "emails_list"
   ]
  },
  {
   "cell_type": "code",
   "execution_count": 16,
   "metadata": {
    "colab": {},
    "colab_type": "code",
    "id": "CBfQRiYPBLHP"
   },
   "outputs": [
    {
     "data": {
      "text/html": [
       "<div>\n",
       "<style scoped>\n",
       "    .dataframe tbody tr th:only-of-type {\n",
       "        vertical-align: middle;\n",
       "    }\n",
       "\n",
       "    .dataframe tbody tr th {\n",
       "        vertical-align: top;\n",
       "    }\n",
       "\n",
       "    .dataframe thead th {\n",
       "        text-align: right;\n",
       "    }\n",
       "</style>\n",
       "<table border=\"1\" class=\"dataframe\">\n",
       "  <thead>\n",
       "    <tr style=\"text-align: right;\">\n",
       "      <th></th>\n",
       "      <th>from_info</th>\n",
       "      <th>from_name</th>\n",
       "      <th>from_email</th>\n",
       "      <th>to_info</th>\n",
       "      <th>to_email</th>\n",
       "      <th>subject</th>\n",
       "      <th>email_body</th>\n",
       "    </tr>\n",
       "  </thead>\n",
       "  <tbody>\n",
       "    <tr>\n",
       "      <th>0</th>\n",
       "      <td>[From: \"MR. JAMES NGOLA.\" &lt;james_ngola2002@mak...</td>\n",
       "      <td>[ \"MR. JAMES NGOLA.\" ]</td>\n",
       "      <td>[james_ngola2002@maktoob.com]</td>\n",
       "      <td>[To: webmaster@aclweb.org]</td>\n",
       "      <td>[]</td>\n",
       "      <td>[Subject: URGENT BUSINESS ASSISTANCE AND PARTN...</td>\n",
       "      <td>None</td>\n",
       "    </tr>\n",
       "    <tr>\n",
       "      <th>1</th>\n",
       "      <td>[From: \"Mr. Ben Suleman\" &lt;bensul2004nng@spinfi...</td>\n",
       "      <td>[ \"Mr. Ben Suleman\" ]</td>\n",
       "      <td>[bensul2004nng@spinfinder.com]</td>\n",
       "      <td>[To: R@M]</td>\n",
       "      <td>[]</td>\n",
       "      <td>[Subject: URGENT ASSISTANCE /RELATIONSHIP (P)]</td>\n",
       "      <td>None</td>\n",
       "    </tr>\n",
       "    <tr>\n",
       "      <th>2</th>\n",
       "      <td>[From: \"PRINCE OBONG ELEME\" &lt;obong_715@epatra....</td>\n",
       "      <td>[ \"PRINCE OBONG ELEME\" ]</td>\n",
       "      <td>[obong_715@epatra.com]</td>\n",
       "      <td>[To: webmaster@aclweb.org]</td>\n",
       "      <td>[]</td>\n",
       "      <td>[Subject: GOOD DAY TO YOU]</td>\n",
       "      <td>None</td>\n",
       "    </tr>\n",
       "    <tr>\n",
       "      <th>3</th>\n",
       "      <td>[From: \"PRINCE OBONG ELEME\" &lt;obong_715@epatra....</td>\n",
       "      <td>[ \"PRINCE OBONG ELEME\" ]</td>\n",
       "      <td>[obong_715@epatra.com]</td>\n",
       "      <td>[To: webmaster@aclweb.org]</td>\n",
       "      <td>[]</td>\n",
       "      <td>[Subject: GOOD DAY TO YOU]</td>\n",
       "      <td>None</td>\n",
       "    </tr>\n",
       "    <tr>\n",
       "      <th>4</th>\n",
       "      <td>[From: \"Maryam Abacha\" &lt;m_abacha03@www.com&gt;]</td>\n",
       "      <td>[ \"Maryam Abacha\" ]</td>\n",
       "      <td>[m_abacha03@www.com]</td>\n",
       "      <td>[To: R@M]</td>\n",
       "      <td>[]</td>\n",
       "      <td>[Subject: I Need Your Assistance.]</td>\n",
       "      <td>None</td>\n",
       "    </tr>\n",
       "    <tr>\n",
       "      <th>5</th>\n",
       "      <td>[From: Kuta David &lt;davidkuta@postmark.net&gt;]</td>\n",
       "      <td>[ Kuta David ]</td>\n",
       "      <td>[]</td>\n",
       "      <td>[To: davidkuta@yahoo.com]</td>\n",
       "      <td>[]</td>\n",
       "      <td>[Subject: Partnership]</td>\n",
       "      <td>None</td>\n",
       "    </tr>\n",
       "    <tr>\n",
       "      <th>6</th>\n",
       "      <td>[From: \"Barrister tunde dosumu\" &lt;tunde_dosumu@...</td>\n",
       "      <td>[ \"Barrister tunde dosumu\" ]</td>\n",
       "      <td>[tunde_dosumu@lycos.com]</td>\n",
       "      <td>[]</td>\n",
       "      <td>[]</td>\n",
       "      <td>[Subject: Urgent Attention]</td>\n",
       "      <td>None</td>\n",
       "    </tr>\n",
       "    <tr>\n",
       "      <th>7</th>\n",
       "      <td>[From: \"William Drallo\" &lt;william2244drallo@mak...</td>\n",
       "      <td>[ \"William Drallo\" ]</td>\n",
       "      <td>[william2244drallo@maktoob.com]</td>\n",
       "      <td>[To: webmaster@aclweb.org]</td>\n",
       "      <td>[]</td>\n",
       "      <td>[Subject: URGENT BUSINESS PRPOSAL]</td>\n",
       "      <td>None</td>\n",
       "    </tr>\n",
       "    <tr>\n",
       "      <th>8</th>\n",
       "      <td>[From: \"MR USMAN ABDUL\" &lt;abdul_817@rediffmail....</td>\n",
       "      <td>[ \"MR USMAN ABDUL\" ]</td>\n",
       "      <td>[abdul_817@rediffmail.com]</td>\n",
       "      <td>[To: R@M]</td>\n",
       "      <td>[]</td>\n",
       "      <td>[Subject: THANK YOU]</td>\n",
       "      <td>None</td>\n",
       "    </tr>\n",
       "    <tr>\n",
       "      <th>9</th>\n",
       "      <td>[From: \"Tunde  Dosumu\" &lt;barrister_td@lycos.com&gt;]</td>\n",
       "      <td>[ \"Tunde  Dosumu\" ]</td>\n",
       "      <td>[barrister_td@lycos.com]</td>\n",
       "      <td>[]</td>\n",
       "      <td>[]</td>\n",
       "      <td>[Subject: Urgent Assistance]</td>\n",
       "      <td>None</td>\n",
       "    </tr>\n",
       "    <tr>\n",
       "      <th>10</th>\n",
       "      <td>[From: MR TEMI JOHNSON &lt;temijohnson2@rediffmai...</td>\n",
       "      <td>[ MR TEMI JOHNSON ]</td>\n",
       "      <td>[temijohnson2@rediffmail.com]</td>\n",
       "      <td>[To: R@E]</td>\n",
       "      <td>[]</td>\n",
       "      <td>[Subject: IMPORTANT]</td>\n",
       "      <td>None</td>\n",
       "    </tr>\n",
       "    <tr>\n",
       "      <th>11</th>\n",
       "      <td>[From: \"Dr.Sam jordan\" &lt;sjordan@diplomats.com&gt;]</td>\n",
       "      <td>[ \"Dr.Sam jordan\" ]</td>\n",
       "      <td>[sjordan@diplomats.com]</td>\n",
       "      <td>[To: R@M]</td>\n",
       "      <td>[]</td>\n",
       "      <td>[Subject: URGENT ASSISTANCE.]</td>\n",
       "      <td>None</td>\n",
       "    </tr>\n",
       "    <tr>\n",
       "      <th>12</th>\n",
       "      <td>[From: p_brown2@lawyer.com]</td>\n",
       "      <td>[ p,  Barrister Peter Brown\\nX]</td>\n",
       "      <td>[]</td>\n",
       "      <td>[To: webmaster@aclweb.org]</td>\n",
       "      <td>[]</td>\n",
       "      <td>[Subject: From: Barrister Peter Brown]</td>\n",
       "      <td>None</td>\n",
       "    </tr>\n",
       "    <tr>\n",
       "      <th>13</th>\n",
       "      <td>[From: mic_k1@post.com]</td>\n",
       "      <td>[ mic]</td>\n",
       "      <td>[]</td>\n",
       "      <td>[To: R@M]</td>\n",
       "      <td>[]</td>\n",
       "      <td>[Subject: MICHAEL]</td>\n",
       "      <td>None</td>\n",
       "    </tr>\n",
       "    <tr>\n",
       "      <th>14</th>\n",
       "      <td>[From: \"COL. MICHAEL BUNDU\" &lt;mikebunduu1@redif...</td>\n",
       "      <td>[ \"COL. MICHAEL BUNDU\" ]</td>\n",
       "      <td>[mikebunduu1@rediffmail.com]</td>\n",
       "      <td>[To: R@E]</td>\n",
       "      <td>[]</td>\n",
       "      <td>[Subject: *****SPAM***** IMPORTANT]</td>\n",
       "      <td>None</td>\n",
       "    </tr>\n",
       "    <tr>\n",
       "      <th>15</th>\n",
       "      <td>[From: \"MRS MARIAM ABACHA\" &lt;elixwilliam@usa.com&gt;]</td>\n",
       "      <td>[ \"MRS MARIAM ABACHA\" ]</td>\n",
       "      <td>[elixwilliam@usa.com]</td>\n",
       "      <td>[To: webmaster@aclweb.org]</td>\n",
       "      <td>[]</td>\n",
       "      <td>[Subject: TRUST TRANSACTION]</td>\n",
       "      <td>None</td>\n",
       "    </tr>\n",
       "    <tr>\n",
       "      <th>16</th>\n",
       "      <td>[From: \" DR. ANAYO AWKA \" &lt;anayoawka@hotmail.c...</td>\n",
       "      <td>[ \" DR. ANAYO AWKA \" ]</td>\n",
       "      <td>[anayoawka@hotmail.com]</td>\n",
       "      <td>[To: webmaster@aclweb.org]</td>\n",
       "      <td>[]</td>\n",
       "      <td>[Subject: REQUEST FOR YOUR UNRESERVED ASSISTANCE]</td>\n",
       "      <td>None</td>\n",
       "    </tr>\n",
       "    <tr>\n",
       "      <th>17</th>\n",
       "      <td>[From: \" DR. ANAYO AWKA \" &lt;anayoawka@hotmail.c...</td>\n",
       "      <td>[ \" DR. ANAYO AWKA \" ]</td>\n",
       "      <td>[anayoawka@hotmail.com]</td>\n",
       "      <td>[To: webmaster@aclweb.org]</td>\n",
       "      <td>[]</td>\n",
       "      <td>[Subject: REQUEST FOR YOUR UNRESERVED ASSISTANCE]</td>\n",
       "      <td>None</td>\n",
       "    </tr>\n",
       "    <tr>\n",
       "      <th>18</th>\n",
       "      <td>[From: \"Victor Aloma\" &lt;victorloma@netscape.net&gt;]</td>\n",
       "      <td>[ \"Victor Aloma\" ]</td>\n",
       "      <td>[]</td>\n",
       "      <td>[To: ntcir-listmem@newns.op.nii.ac.jp]</td>\n",
       "      <td>[]</td>\n",
       "      <td>[Subject: Urgent Assistance]</td>\n",
       "      <td>None</td>\n",
       "    </tr>\n",
       "    <tr>\n",
       "      <th>19</th>\n",
       "      <td>[From: \"Victor Aloma\" &lt;victorloma@netscape.net&gt;]</td>\n",
       "      <td>[ \"Victor Aloma\" ]</td>\n",
       "      <td>[]</td>\n",
       "      <td>[To: ntcir-outgoing@nii.ac.jp]</td>\n",
       "      <td>[]</td>\n",
       "      <td>[Subject: Urgent Assistance]</td>\n",
       "      <td>None</td>\n",
       "    </tr>\n",
       "  </tbody>\n",
       "</table>\n",
       "</div>"
      ],
      "text/plain": [
       "                                            from_info  \\\n",
       "0   [From: \"MR. JAMES NGOLA.\" <james_ngola2002@mak...   \n",
       "1   [From: \"Mr. Ben Suleman\" <bensul2004nng@spinfi...   \n",
       "2   [From: \"PRINCE OBONG ELEME\" <obong_715@epatra....   \n",
       "3   [From: \"PRINCE OBONG ELEME\" <obong_715@epatra....   \n",
       "4        [From: \"Maryam Abacha\" <m_abacha03@www.com>]   \n",
       "5         [From: Kuta David <davidkuta@postmark.net>]   \n",
       "6   [From: \"Barrister tunde dosumu\" <tunde_dosumu@...   \n",
       "7   [From: \"William Drallo\" <william2244drallo@mak...   \n",
       "8   [From: \"MR USMAN ABDUL\" <abdul_817@rediffmail....   \n",
       "9    [From: \"Tunde  Dosumu\" <barrister_td@lycos.com>]   \n",
       "10  [From: MR TEMI JOHNSON <temijohnson2@rediffmai...   \n",
       "11    [From: \"Dr.Sam jordan\" <sjordan@diplomats.com>]   \n",
       "12                        [From: p_brown2@lawyer.com]   \n",
       "13                            [From: mic_k1@post.com]   \n",
       "14  [From: \"COL. MICHAEL BUNDU\" <mikebunduu1@redif...   \n",
       "15  [From: \"MRS MARIAM ABACHA\" <elixwilliam@usa.com>]   \n",
       "16  [From: \" DR. ANAYO AWKA \" <anayoawka@hotmail.c...   \n",
       "17  [From: \" DR. ANAYO AWKA \" <anayoawka@hotmail.c...   \n",
       "18   [From: \"Victor Aloma\" <victorloma@netscape.net>]   \n",
       "19   [From: \"Victor Aloma\" <victorloma@netscape.net>]   \n",
       "\n",
       "                          from_name                       from_email  \\\n",
       "0            [ \"MR. JAMES NGOLA.\" ]    [james_ngola2002@maktoob.com]   \n",
       "1             [ \"Mr. Ben Suleman\" ]   [bensul2004nng@spinfinder.com]   \n",
       "2          [ \"PRINCE OBONG ELEME\" ]           [obong_715@epatra.com]   \n",
       "3          [ \"PRINCE OBONG ELEME\" ]           [obong_715@epatra.com]   \n",
       "4               [ \"Maryam Abacha\" ]             [m_abacha03@www.com]   \n",
       "5                    [ Kuta David ]                               []   \n",
       "6      [ \"Barrister tunde dosumu\" ]         [tunde_dosumu@lycos.com]   \n",
       "7              [ \"William Drallo\" ]  [william2244drallo@maktoob.com]   \n",
       "8              [ \"MR USMAN ABDUL\" ]       [abdul_817@rediffmail.com]   \n",
       "9               [ \"Tunde  Dosumu\" ]         [barrister_td@lycos.com]   \n",
       "10              [ MR TEMI JOHNSON ]    [temijohnson2@rediffmail.com]   \n",
       "11              [ \"Dr.Sam jordan\" ]          [sjordan@diplomats.com]   \n",
       "12  [ p,  Barrister Peter Brown\\nX]                               []   \n",
       "13                           [ mic]                               []   \n",
       "14         [ \"COL. MICHAEL BUNDU\" ]     [mikebunduu1@rediffmail.com]   \n",
       "15          [ \"MRS MARIAM ABACHA\" ]            [elixwilliam@usa.com]   \n",
       "16           [ \" DR. ANAYO AWKA \" ]          [anayoawka@hotmail.com]   \n",
       "17           [ \" DR. ANAYO AWKA \" ]          [anayoawka@hotmail.com]   \n",
       "18               [ \"Victor Aloma\" ]                               []   \n",
       "19               [ \"Victor Aloma\" ]                               []   \n",
       "\n",
       "                                   to_info to_email  \\\n",
       "0               [To: webmaster@aclweb.org]       []   \n",
       "1                                [To: R@M]       []   \n",
       "2               [To: webmaster@aclweb.org]       []   \n",
       "3               [To: webmaster@aclweb.org]       []   \n",
       "4                                [To: R@M]       []   \n",
       "5                [To: davidkuta@yahoo.com]       []   \n",
       "6                                       []       []   \n",
       "7               [To: webmaster@aclweb.org]       []   \n",
       "8                                [To: R@M]       []   \n",
       "9                                       []       []   \n",
       "10                               [To: R@E]       []   \n",
       "11                               [To: R@M]       []   \n",
       "12              [To: webmaster@aclweb.org]       []   \n",
       "13                               [To: R@M]       []   \n",
       "14                               [To: R@E]       []   \n",
       "15              [To: webmaster@aclweb.org]       []   \n",
       "16              [To: webmaster@aclweb.org]       []   \n",
       "17              [To: webmaster@aclweb.org]       []   \n",
       "18  [To: ntcir-listmem@newns.op.nii.ac.jp]       []   \n",
       "19          [To: ntcir-outgoing@nii.ac.jp]       []   \n",
       "\n",
       "                                              subject email_body  \n",
       "0   [Subject: URGENT BUSINESS ASSISTANCE AND PARTN...       None  \n",
       "1      [Subject: URGENT ASSISTANCE /RELATIONSHIP (P)]       None  \n",
       "2                          [Subject: GOOD DAY TO YOU]       None  \n",
       "3                          [Subject: GOOD DAY TO YOU]       None  \n",
       "4                  [Subject: I Need Your Assistance.]       None  \n",
       "5                              [Subject: Partnership]       None  \n",
       "6                         [Subject: Urgent Attention]       None  \n",
       "7                  [Subject: URGENT BUSINESS PRPOSAL]       None  \n",
       "8                                [Subject: THANK YOU]       None  \n",
       "9                        [Subject: Urgent Assistance]       None  \n",
       "10                               [Subject: IMPORTANT]       None  \n",
       "11                      [Subject: URGENT ASSISTANCE.]       None  \n",
       "12             [Subject: From: Barrister Peter Brown]       None  \n",
       "13                                 [Subject: MICHAEL]       None  \n",
       "14                [Subject: *****SPAM***** IMPORTANT]       None  \n",
       "15                       [Subject: TRUST TRANSACTION]       None  \n",
       "16  [Subject: REQUEST FOR YOUR UNRESERVED ASSISTANCE]       None  \n",
       "17  [Subject: REQUEST FOR YOUR UNRESERVED ASSISTANCE]       None  \n",
       "18                       [Subject: Urgent Assistance]       None  \n",
       "19                       [Subject: Urgent Assistance]       None  "
      ]
     },
     "execution_count": 16,
     "metadata": {},
     "output_type": "execute_result"
    }
   ],
   "source": [
    "#將處理結果轉化為dataframe\n",
    "emails_df = pd.DataFrame(emails_list)\n",
    "emails_df"
   ]
  },
  {
   "cell_type": "code",
   "execution_count": null,
   "metadata": {},
   "outputs": [],
   "source": []
  }
 ],
 "metadata": {
  "colab": {
   "name": "Python_regular_expression_作業.ipynb",
   "provenance": []
  },
  "kernelspec": {
   "display_name": "Python 3",
   "language": "python",
   "name": "python3"
  },
  "language_info": {
   "codemirror_mode": {
    "name": "ipython",
    "version": 3
   },
   "file_extension": ".py",
   "mimetype": "text/x-python",
   "name": "python",
   "nbconvert_exporter": "python",
   "pygments_lexer": "ipython3",
   "version": "3.7.9"
  }
 },
 "nbformat": 4,
 "nbformat_minor": 1
}
