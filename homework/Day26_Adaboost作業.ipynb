{
 "cells": [
  {
   "cell_type": "markdown",
   "metadata": {},
   "source": [
    "### 作業目的:了解Ensemble中的Blending與Stacking"
   ]
  },
  {
   "cell_type": "markdown",
   "metadata": {},
   "source": [
    "### Question: 請描述Blending與Stacking的差異\n",
    "\n",
    "Answer:\n",
    "Blending與Stacking都是模型集成\n",
    "\n",
    "Blending: 將不同模型的預測值加權合成。\n",
    "\n",
    "Stacking: 把模型當作下一階的特徵編碼器使用。\n",
    "\n",
    "1. 差異在於怎麼使用模型預測的結果。Stacking不只將預測結果混和，而是使用預測結果當新特徵，\n",
    "   更進一步的運用資料輔助集成，但是待編碼資料與用來訓練編碼器的資料不可重複 (訓練測試的不\n",
    "   可重複性)。所以比Blending複雜。\n",
    "   \n",
    "2. Blending使用容易，但缺點在於無法更深入的利用資料更進一步混合模型。"
   ]
  },
  {
   "cell_type": "code",
   "execution_count": null,
   "metadata": {},
   "outputs": [],
   "source": []
  }
 ],
 "metadata": {
  "kernelspec": {
   "display_name": "Python 3",
   "language": "python",
   "name": "python3"
  },
  "language_info": {
   "codemirror_mode": {
    "name": "ipython",
    "version": 3
   },
   "file_extension": ".py",
   "mimetype": "text/x-python",
   "name": "python",
   "nbconvert_exporter": "python",
   "pygments_lexer": "ipython3",
   "version": "3.7.9"
  }
 },
 "nbformat": 4,
 "nbformat_minor": 2
}
