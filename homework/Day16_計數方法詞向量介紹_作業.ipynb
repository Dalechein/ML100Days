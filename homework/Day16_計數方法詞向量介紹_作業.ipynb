{
 "cells": [
  {
   "cell_type": "markdown",
   "metadata": {},
   "source": [
    "## 作業目標: 透過思考與回答以更加了解計數方法的詞向量"
   ]
  },
  {
   "cell_type": "markdown",
   "metadata": {},
   "source": [
    "### 請問詞庫手法會有什麼樣的優缺點？\n",
    "\n",
    "詞庫手法為創建包含大量字詞的詞庫，將相同意思字詞(同義字)或相似意思字詞(相似字)分類在相同群組。\n",
    "\n",
    "優點:\n",
    "直覺，容易理解。\n",
    "\n",
    "缺點:\n",
    "建立詞庫需要大量人力與時間成本。\n",
    "無法辨識新產生的詞\n",
    "須以人工更新與維護詞庫"
   ]
  },
  {
   "cell_type": "markdown",
   "metadata": {},
   "source": [
    "### 請問共現矩陣有什麼樣的優缺點？ \n",
    "\n",
    "根據分佈假說，相似的字詞會有類似的上下文，因此我們可以透過計數周圍(window)的字詞來表達特定字詞的向量。\n",
    "\n",
    "優點:\n",
    "可透過類似的上下文來表達特定字詞。\n",
    "\n",
    "缺點:\n",
    "字數越多，矩陣維度越大，需要儲存的空間也就越大。\n",
    "\n",
    "對高頻詞的效果較差。"
   ]
  },
  {
   "cell_type": "markdown",
   "metadata": {},
   "source": [
    "### 請問為何需要對共現矩陣或PPMI進行SVD降維?\n",
    "\n",
    "降低複雜度。以較簡潔的模型達到學習資料特徵的效果。\n",
    "降低資料雜訊。"
   ]
  },
  {
   "cell_type": "code",
   "execution_count": 1,
   "metadata": {},
   "outputs": [
    {
     "name": "stdout",
     "output_type": "stream",
     "text": [
      "Similarity: 0.7071067691154799\n"
     ]
    }
   ],
   "source": [
    "import numpy as np\n",
    "I = np.array([0,1,0,0,0,0,0])\n",
    "You = np.array([0,1,0,1,0,0,0])\n",
    "\n",
    "def cos_similarity(x, y, eps=1e-8):\n",
    "    dot = sum(a*b for a,b in zip(x,y))\n",
    "    norm_a = np.sqrt(sum(a**2 for a in x)) + eps\n",
    "    norm_b = np.sqrt(sum(b**2 for b in y)) + eps\n",
    "    return (dot / (norm_a*norm_b))\n",
    "    \n",
    "print(f\"Similarity: {cos_similarity(I, You)}\")"
   ]
  }
 ],
 "metadata": {
  "kernelspec": {
   "display_name": "Python 3",
   "language": "python",
   "name": "python3"
  },
  "language_info": {
   "codemirror_mode": {
    "name": "ipython",
    "version": 3
   },
   "file_extension": ".py",
   "mimetype": "text/x-python",
   "name": "python",
   "nbconvert_exporter": "python",
   "pygments_lexer": "ipython3",
   "version": "3.7.9"
  }
 },
 "nbformat": 4,
 "nbformat_minor": 2
}
