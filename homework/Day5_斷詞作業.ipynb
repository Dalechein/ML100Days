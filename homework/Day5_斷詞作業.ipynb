{
 "cells": [
  {
   "cell_type": "markdown",
   "metadata": {},
   "source": [
    "## 作業目標: 了解斷詞演算法的背後計算"
   ]
  },
  {
   "cell_type": "markdown",
   "metadata": {},
   "source": [
    "### 根據課程講述的內容, 請計算出下列剩餘所有情況的\n",
    "若有一個人連續觀察到三天水草都是乾燥的(Dry), 則這三天的天氣機率為何？(可參考講義第13頁)\n",
    "(Hint: 共有8種可能機率)\n",
    "\n",
    "```python\n",
    "states = ('sunny', 'rainy')\n",
    "observations = ('dry', 'damp', 'soggy')\n",
    "start_probability = {'sunny': 0.4, 'rainy': 0.6}\n",
    "transition_probability = {'sunny':{'sunny':0.6, 'rainy':0.4},\n",
    "                          'rainy': {'sunny':0.3, 'rainy':0.7}}\n",
    "emission_probatility = {'sunny': {'dry':0.6, 'damp':0.3, 'soggy':0.1},\n",
    "                        'rainy': {'dry':0.1, 'damp':0.4, 'soggy':0.5}}\n",
    "```"
   ]
  },
  {
   "cell_type": "markdown",
   "metadata": {},
   "source": [
    "```\n",
    "觀察狀態 = 'dry', 'dry', 'dry'\n",
    "Sunny, Sunny, Sunny: 0.4*(0.6)*0.6*(0.6)*0.6*(0.6) = 0.031104\n",
    "Rainy, Sunny, Sunny: 0.6*(0.1)*0.3*(0.6)*0.6*(0.6) = 0.003888\n",
    "###<your answers>###\n",
    "\n",
    "最大機率為: Sunny, Sunny, Sunny\n",
    "```"
   ]
  },
  {
   "cell_type": "markdown",
   "metadata": {},
   "source": [
    "### 根據上述條件, 寫出Viterbi應用程式"
   ]
  },
  {
   "cell_type": "code",
   "execution_count": 1,
   "metadata": {},
   "outputs": [],
   "source": [
    "observations = ('dry', 'dry', 'dry') #實際上觀察到的狀態為dry, dry, dry\n",
    "states = ('sunny', 'rainy')\n",
    "start_probability = {'sunny': 0.4, 'rainy': 0.6}\n",
    "transition_probability = {'sunny': {'sunny':0.6, 'rainy':0.4},\n",
    "                          'rainy': {'sunny':0.3, 'rainy':0.7}}\n",
    "emission_probatility = {'sunny': {'dry':0.6, 'damp':0.3, 'soggy':0.1},\n",
    "                        'rainy': {'dry':0.1, 'damp':0.4, 'soggy':0.5}}"
   ]
  },
  {
   "cell_type": "code",
   "execution_count": 2,
   "metadata": {},
   "outputs": [],
   "source": [
    "def viterbi(obs, states, start_p, trans_p, emit_p):\n",
    "    V = [{},{},{}]\n",
    "    # Initialize base cases (t == 0), states = ('sunny', 'rainy')\n",
    "    for y in states:\n",
    "        V[0][y] = start_p[y] * emit_p[y]['dry']\n",
    "\n",
    "# {'final_state': [1, 'sunny', 'sunny', q, 1, 'sunny', 'rainy', q], 'sunny': q, 'rainy': q}\n",
    "    # Run Viterbi for t > 0\n",
    "    for t in range(1,len(obs)): \n",
    "        V[t]['final_state'] = []\n",
    "        for y in states:\n",
    "            if t == 1:\n",
    "                q1 = V[0]['sunny'] * trans_p['sunny'][y] * emit_p[y]['dry']\n",
    "                q2 = V[0]['rainy'] * trans_p['rainy'][y] * emit_p[y]['dry']\n",
    "                if max(q1,q2)==q1:\n",
    "                    V[t][y]=q1\n",
    "                    V[t]['final_state'] = V[t]['final_state']+[t, 'sunny', y, q1]\n",
    "                    # V[t]['final_state'] = V[t]['final_state']+[t, str(t-1)+'-sunny', str(t)+'-'+y, q1]\n",
    "                    #final_state = [t, y]\n",
    "                else:\n",
    "                    V[t][y]=q2\n",
    "                    V[t]['final_state'] = V[t]['final_state']+[t, 'rainy', y, q1]\n",
    "                    # V[t]['final_state'] = V[t]['final_state']+[t, str(t-1)+'-rainy', str(t)+'-'+y, q1]\n",
    "            else:\n",
    "                q1 = V[t-1]['sunny'] * trans_p['sunny'][y] * emit_p[y]['dry']\n",
    "                q2 = V[t-1]['rainy'] * trans_p['rainy'][y] * emit_p[y]['dry']                \n",
    "                if max(q1,q2)==q1:\n",
    "                    V[t][y]=q1\n",
    "                    V[t]['final_state'] = V[t]['final_state']+[t, 'sunny', y, q1]\n",
    "                    # V[t]['final_state'] = V[t]['final_state']+[t, str(t-1)+'-sunny', str(t)+'-'+y, q1]\n",
    "                else:\n",
    "                    V[t][y]=q2\n",
    "                    V[t]['final_state'] = V[t]['final_state']+[t, 'rainy', y, q1]\n",
    "                    # V[t]['final_state'] = V[t]['final_state']+[t, str(t-1)+'-rainy', str(t)+'-'+y, q1]\n",
    "    print(V)\n",
    "\n",
    "    print()\n",
    "    print(\"result: \")\n",
    "\n",
    "    path = [0 for i in range(len(obs))]\n",
    "         \n",
    "\n",
    "    if max(V[len(obs)-1]['sunny'], V[len(obs)-1]['rainy']) == V[len(obs)-1]['sunny']:\n",
    "        print('最大機率為: {}'.format(V[len(obs)-1]['sunny']))\n",
    "        path[len(obs)-1] = 'sunny'\n",
    "        for i in range(len(obs)-2,0,-1):\n",
    "            path[i]= V[i+1]['final_state'][1]            \n",
    "    else:\n",
    "        print('最大機率為: {}'.format(V[len(obs)-1]['rainy']))\n",
    "        path[len(obs)-1] = 'rainy'\n",
    "        for i in range(len(obs)-2,0,-1):\n",
    "            path[i]= V[i+1]['final_state'][1]\n",
    "    path[0] = V[1]['final_state'][1]\n",
    "\n",
    "    print(f'所有路徑為: {path}')"
   ]
  },
  {
   "cell_type": "code",
   "execution_count": 3,
   "metadata": {},
   "outputs": [
    {
     "name": "stdout",
     "output_type": "stream",
     "text": [
      "[{'sunny': 0.24, 'rainy': 0.06}, {'final_state': [1, 'sunny', 'sunny', 0.08639999999999999, 1, 'sunny', 'rainy', 0.009600000000000001], 'sunny': 0.08639999999999999, 'rainy': 0.009600000000000001}, {'final_state': [2, 'sunny', 'sunny', 0.031103999999999993, 2, 'sunny', 'rainy', 0.0034560000000000003], 'sunny': 0.031103999999999993, 'rainy': 0.0034560000000000003}]\n",
      "\n",
      "result: \n",
      "最大機率為: 0.031103999999999993\n",
      "所有路徑為: ['sunny', 'sunny', 'sunny']\n"
     ]
    }
   ],
   "source": [
    "result = viterbi(observations,\n",
    "                 states,\n",
    "                 start_probability,\n",
    "                 transition_probability,\n",
    "                 emission_probatility)"
   ]
  },
  {
   "cell_type": "markdown",
   "metadata": {},
   "source": [
    "## 測試內容\n",
    "[{'sunny': 0.24, 'rainy': 0.06}, {'final_state': [1, '0-sunny', '1-sunny', 0.08639999999999999, 1, '0-sunny', '1-rainy', 0.009600000000000001], 'sunny': 0.08639999999999999, 'rainy': 0.009600000000000001}, {'final_state': [2, '1-sunny', '2-sunny', 0.031103999999999993, 2, '1-sunny', '2-rainy', 0.0034560000000000003], 'sunny': 0.031103999999999993, 'rainy': 0.0034560000000000003}]"
   ]
  },
  {
   "cell_type": "code",
   "execution_count": null,
   "metadata": {},
   "outputs": [],
   "source": []
  }
 ],
 "metadata": {
  "kernelspec": {
   "display_name": "Python 3",
   "language": "python",
   "name": "python3"
  },
  "language_info": {
   "codemirror_mode": {
    "name": "ipython",
    "version": 3
   },
   "file_extension": ".py",
   "mimetype": "text/x-python",
   "name": "python",
   "nbconvert_exporter": "python",
   "pygments_lexer": "ipython3",
   "version": "3.7.9"
  }
 },
 "nbformat": 4,
 "nbformat_minor": 2
}
