{
 "cells": [
  {
   "cell_type": "markdown",
   "metadata": {},
   "source": [
    "### 作業目的: 了解何謂Bias-Variance Tradeoff"
   ]
  },
  {
   "cell_type": "markdown",
   "metadata": {},
   "source": [
    "### Q1: 一般模型誤差可拆為三部分，這三部分的誤差分別是？\n",
    "\n",
    "Answer: \n",
    "1. 偏差：真實模型和平均模型的差異。\n",
    "        簡單模型和真實模型的曲線差別大，通常是高偏差；複雜模型和真實模型的曲線差別小，通常是低偏差。 \n",
    "2. 方差：無數個擬合模型的差異。\n",
    "        簡單模型對資料的變動不敏感，通常是低方差；複雜模型對資料的變動非常敏感，通常是高方差。\n",
    "3. 雜訊：目前工作中任何學習演算法所能達到的期望真實誤差的下界(不可消除的誤差)，即學習問題本身的難度。\n",
    "\n",
    "#### 註：欠擬合模型為高偏差、低方差。過擬合模型為低偏差、高方差。"
   ]
  },
  {
   "cell_type": "markdown",
   "metadata": {},
   "source": [
    "### Q2: 請解釋何謂Bias-Variance Tradeoff\n",
    "\n",
    "Answer:\n",
    "偏差和方差兩者權衡，通常減小偏差會增加方差，反之亦然。所以最理想狀況是：\n",
    "1. 在減小可避免偏差時，不要顯著增加方差。\n",
    "2. 在減小可避免方差時，不要顯著增加偏差。"
   ]
  },
  {
   "cell_type": "markdown",
   "metadata": {},
   "source": [
    "減少(可避免)偏差的方法：\n",
    "1. 用更複雜的模型(增加特徵)\n",
    "2. 減少正規化作用\n",
    "3. 訓練更長時間\n",
    "4. 訓練更好的最佳化演算法\n",
    "5. 尋找更好的模型"
   ]
  },
  {
   "cell_type": "markdown",
   "metadata": {},
   "source": [
    "減少方差的方法\n",
    "1. 收集更多的資料\n",
    "2. 增加正規化作用\n",
    "3. 加入提前停止條件\n",
    "4. 用更簡單的模型\n",
    "5. 透過在訓練集上做誤差分析\n",
    "6. 尋找更好的模型"
   ]
  },
  {
   "cell_type": "code",
   "execution_count": null,
   "metadata": {},
   "outputs": [],
   "source": []
  }
 ],
 "metadata": {
  "kernelspec": {
   "display_name": "Python 3",
   "language": "python",
   "name": "python3"
  },
  "language_info": {
   "codemirror_mode": {
    "name": "ipython",
    "version": 3
   },
   "file_extension": ".py",
   "mimetype": "text/x-python",
   "name": "python",
   "nbconvert_exporter": "python",
   "pygments_lexer": "ipython3",
   "version": "3.7.9"
  }
 },
 "nbformat": 4,
 "nbformat_minor": 2
}
