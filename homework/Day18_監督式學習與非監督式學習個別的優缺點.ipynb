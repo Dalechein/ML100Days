{
 "cells": [
  {
   "cell_type": "markdown",
   "metadata": {},
   "source": [
    "## 1. 監督式學習(有標籤)：\n",
    "\n",
    "#### 優點\n",
    "透過已知的答案，找出資料與資料之間的關係，進而建立一個模型，並能依此模型去推測新的實例。\n",
    "\n",
    "#### 缺點\n",
    "需要大量人工標註。\n",
    "\n",
    "##  2. 非監督式學習(無標籤)：\n",
    "\n",
    "#### 優點\n",
    "不需事前標註，可在沒有明確目標的情況下找出資料間的關係。\n",
    "\n",
    "#### 缺點\n",
    "耗費時間。"
   ]
  }
 ],
 "metadata": {
  "kernelspec": {
   "display_name": "Python 3",
   "language": "python",
   "name": "python3"
  },
  "language_info": {
   "codemirror_mode": {
    "name": "ipython",
    "version": 3
   },
   "file_extension": ".py",
   "mimetype": "text/x-python",
   "name": "python",
   "nbconvert_exporter": "python",
   "pygments_lexer": "ipython3",
   "version": "3.7.9"
  }
 },
 "nbformat": 4,
 "nbformat_minor": 4
}
